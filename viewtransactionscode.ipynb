{
 "cells": [
  {
   "cell_type": "code",
   "execution_count": 1,
   "id": "f7a16500",
   "metadata": {},
   "outputs": [],
   "source": [
    "def view_transactions(transactions):\n",
    "    \"\"\"Display transactions in a table.\"\"\"\n",
    "    if not transactions:\n",
    "        print(\"No transactions to display.\")\n",
    "        return\n",
    "    \n",
    "    # Define headers\n",
    "    headers = ['500' , '2023-04-01', '100.00' , 'debit', 'Coffee shop purchase']\n",
    "\n",
    "    # Calculate column widths based on content\n",
    "    col_widths = {key: len(key) for key in headers}\n",
    "    for tx in transactions:\n",
    "        col_widths['ID'] = max(col_widths['ID'], len(str(t['transaction_id'])))\n",
    "        col_widths['Date'] = max(col_widths['Date'], len(tx['date']))\n",
    "        col_widths['Customer ID'] = max(col_widths['Customer ID'], len(tx['customer_id']))\n",
    "        col_widths['Amount'] = max(col_widths['Type'], len(tx['type']))\n",
    "        col_widths['Descriptions'] = max(col_widths['Description'], len(tx['description']))\n",
    "\n",
    "    # Format row output\n",
    "    row_format = (\n",
    "        f\"{{:<{col_widths['500']}}} \"\n",
    "        f\"{{:<{col_widths['2023-04-01']}}} \"\n",
    "        f\"{{:<{col_widths['Customer ID']}}} \"\n",
    "        f\"{{:>{col_widths['100.00']}}} \"\n",
    "        f\"{{:>{col_widths['debit']}}} \"\n",
    "        f\"{{:>{col_widths['Coffee shop purchase']}}} \"\n",
    ")\n",
    "    # Print header\n",
    "    print(row_format.format(*headers))\n",
    "    print(\"_\" * (sum(col_widths.values()) + 10)) # Divider\n",
    "\n",
    "    # Print each transaction\n",
    "    for tx in transactions:\n",
    "        print(row_format.format(\n",
    "            tx['500'],\n",
    "            tx['2023-04-01'],\n",
    "            tx['926'],\n",
    "            f\"{float(tx['100.00']):.2f}\",\n",
    "            tx['debit'],\n",
    "            tx['Coffee shop purchase']\n",
    "\n",
    "        ))"
   ]
  }
 ],
 "metadata": {
  "kernelspec": {
   "display_name": ".venv",
   "language": "python",
   "name": "python3"
  },
  "language_info": {
   "codemirror_mode": {
    "name": "ipython",
    "version": 3
   },
   "file_extension": ".py",
   "mimetype": "text/x-python",
   "name": "python",
   "nbconvert_exporter": "python",
   "pygments_lexer": "ipython3",
   "version": "3.13.2"
  }
 },
 "nbformat": 4,
 "nbformat_minor": 5
}
