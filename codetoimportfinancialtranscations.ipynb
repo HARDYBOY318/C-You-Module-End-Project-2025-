{
 "cells": [
  {
   "cell_type": "code",
   "execution_count": 10,
   "id": "c4ab9ac2",
   "metadata": {},
   "outputs": [
    {
     "ename": "SyntaxError",
     "evalue": "expected '(' (3795543209.py, line 3)",
     "output_type": "error",
     "traceback": [
      "  \u001b[36mCell\u001b[39m\u001b[36m \u001b[39m\u001b[32mIn[10]\u001b[39m\u001b[32m, line 3\u001b[39m\n\u001b[31m    \u001b[39m\u001b[31mdef load_csv_to-dict_list(financial_transactions.csv.url):\u001b[39m\n                   ^\n\u001b[31mSyntaxError\u001b[39m\u001b[31m:\u001b[39m expected '('\n"
     ]
    }
   ],
   "source": [
    "import csv\n",
    "\n",
    "def load_csv_to-dict_list(financial_transactions.csv.url):\n",
    "    transactions = []\n",
    "    try:\n",
    "        with open(financial_transactions.csv, mode='r', newline='') as csvfile:\n",
    "            reader = csv.DictReader(csvfile)\n",
    "            for row in reader:\n",
    "                transactions.append(row)\n",
    "    except FileNotFoundError:\n",
    "        print(f\"Error: File '{file_path}' not found.\") \n",
    "    return transactions\n",
    "\n",
    "# Example usage\n",
    "transactions = load_csv_to_dict_list('financial_transactions.csv.url')\n",
    "print(f\"Loaded {len(transactions)} transactions\")               \n"
   ]
  }
 ],
 "metadata": {
  "kernelspec": {
   "display_name": ".venv",
   "language": "python",
   "name": "python3"
  },
  "language_info": {
   "codemirror_mode": {
    "name": "ipython",
    "version": 3
   },
   "file_extension": ".py",
   "mimetype": "text/x-python",
   "name": "python",
   "nbconvert_exporter": "python",
   "pygments_lexer": "ipython3",
   "version": "3.13.2"
  }
 },
 "nbformat": 4,
 "nbformat_minor": 5
}
