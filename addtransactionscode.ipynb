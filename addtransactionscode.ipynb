{
 "cells": [
  {
   "cell_type": "code",
   "execution_count": 2,
   "id": "6d20fab9",
   "metadata": {},
   "outputs": [
    {
     "ename": "NameError",
     "evalue": "name 'transactions' is not defined",
     "output_type": "error",
     "traceback": [
      "\u001b[31m---------------------------------------------------------------------------\u001b[39m",
      "\u001b[31mNameError\u001b[39m                                 Traceback (most recent call last)",
      "\u001b[36mCell\u001b[39m\u001b[36m \u001b[39m\u001b[32mIn[2]\u001b[39m\u001b[32m, line 49\u001b[39m\n\u001b[32m     39\u001b[39m     new_transaction = {\n\u001b[32m     40\u001b[39m         \u001b[33m'\u001b[39m\u001b[33mtransaction_id\u001b[39m\u001b[33m'\u001b[39m : new_id, \n\u001b[32m     41\u001b[39m         \u001b[33m'\u001b[39m\u001b[33mdate\u001b[39m\u001b[33m'\u001b[39m : date.isoformat(), \n\u001b[32m   (...)\u001b[39m\u001b[32m     45\u001b[39m         \u001b[33m'\u001b[39m\u001b[33mdescription\u001b[39m\u001b[33m'\u001b[39m : description\n\u001b[32m     46\u001b[39m }            \n\u001b[32m     48\u001b[39m \u001b[38;5;66;03m# Append to list\u001b[39;00m\n\u001b[32m---> \u001b[39m\u001b[32m49\u001b[39m \u001b[43mtransactions\u001b[49m.append(new_transaction)\n\u001b[32m     50\u001b[39m \u001b[38;5;28mprint\u001b[39m(\u001b[33m\"\u001b[39m\u001b[33mTransaction added successfully.\u001b[39m\u001b[33m\"\u001b[39m)\n",
      "\u001b[31mNameError\u001b[39m: name 'transactions' is not defined"
     ]
    }
   ],
   "source": [
    "from datetime import datetime\n",
    "\n",
    "def add_transaction(transactions):\n",
    "    \"\"\"Add a new transaction from user input.\"\"\"\n",
    "    # Prompt for user input\n",
    "    date_str = input(\"Enter transaction date (2020, 10, 26)\")\n",
    "    customer_id = input(\"Enter customer ID: '926' \")\n",
    "    amount_str = input(\"Enter transaction amount: '6478.39' \")\n",
    "    transaction_type = input(\"Enter transaction type (credit/debit): 'credit' \").strip().lower()\n",
    "    description = input(\"Enter transaction description: 'Expect series shake art again our.' \")\n",
    "\n",
    "    # Validate date\n",
    "    try:\n",
    "        date = datetime.strptime(date_str, '%Y-%m-%d' ).date()\n",
    "    except ValueError:\n",
    "        print(\"Invalid date format. Use YYYY-MM-DD. \")\n",
    "        return\n",
    "\n",
    "    # Validate amount\n",
    "    try:\n",
    "        amount = float(amount_str)\n",
    "    except ValueError:\n",
    "        print(\"Invalid amount. Must be a number.\")\n",
    "        return\n",
    "\n",
    "    # Validate type\n",
    "    if transaction_type not in ('credit' , 'debit'):\n",
    "        print(\"Invalid transaction type. Must be 'credit' or 'debit' .\")\n",
    "        return\n",
    "\n",
    "    # Generate new transaction_id\n",
    "    if transactions:\n",
    "        max_id = max(int(t['transaction_id']) for t in transactions)\n",
    "        new_id = str(max_id + 1)\n",
    "    else:\n",
    "        new_id = '1'\n",
    "\n",
    "    # Create new transaction dictionary\n",
    "    new_transaction = {\n",
    "        'transaction_id' : new_id, \n",
    "        'date' : date.isoformat(), \n",
    "        'customer_id' : customer_id, \n",
    "        'amount' : amount,\n",
    "        'type' : transaction_type,\n",
    "        'description' : description\n",
    "}            \n",
    "\n",
    "# Append to list\n",
    "transactions.append(new_transaction)\n",
    "print(\"Transaction added successfully.\")"
   ]
  },
  {
   "cell_type": "code",
   "execution_count": null,
   "id": "1f37c9d9",
   "metadata": {},
   "outputs": [],
   "source": []
  }
 ],
 "metadata": {
  "kernelspec": {
   "display_name": ".venv",
   "language": "python",
   "name": "python3"
  },
  "language_info": {
   "codemirror_mode": {
    "name": "ipython",
    "version": 3
   },
   "file_extension": ".py",
   "mimetype": "text/x-python",
   "name": "python",
   "nbconvert_exporter": "python",
   "pygments_lexer": "ipython3",
   "version": "3.13.2"
  }
 },
 "nbformat": 4,
 "nbformat_minor": 5
}
