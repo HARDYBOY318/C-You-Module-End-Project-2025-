{
 "cells": [
  {
   "cell_type": "code",
   "execution_count": 3,
   "id": "f88edf8e",
   "metadata": {},
   "outputs": [
    {
     "ename": "NameError",
     "evalue": "name 'new_value' is not defined",
     "output_type": "error",
     "traceback": [
      "\u001b[31m---------------------------------------------------------------------------\u001b[39m",
      "\u001b[31mNameError\u001b[39m                                 Traceback (most recent call last)",
      "\u001b[36mCell\u001b[39m\u001b[36m \u001b[39m\u001b[32mIn[3]\u001b[39m\u001b[32m, line 51\u001b[39m\n\u001b[32m     48\u001b[39m             \u001b[38;5;28mprint\u001b[39m(\u001b[33m\"\u001b[39m\u001b[33mInvalid numeric value. Update cancelled. \u001b[39m\u001b[33m\"\u001b[39m)\n\u001b[32m     49\u001b[39m             \u001b[38;5;28;01mreturn\u001b[39;00m\n\u001b[32m---> \u001b[39m\u001b[32m51\u001b[39m transaction[field_to_update] = \u001b[43mnew_value\u001b[49m\n\u001b[32m     52\u001b[39m \u001b[38;5;28mprint\u001b[39m(\u001b[33m\"\u001b[39m\u001b[33mTransaction update successfully.\u001b[39m\u001b[33m\"\u001b[39m)\n",
      "\u001b[31mNameError\u001b[39m: name 'new_value' is not defined"
     ]
    }
   ],
   "source": [
    "def update_transaction(transactions):\n",
    "    \"\"\"Update a transaction's details.\"\"\"\n",
    "    if not transactions:\n",
    "        print(\"No transactions to update.\")\n",
    "        return\n",
    "    \n",
    "    # Show transactions with numbers\n",
    "    for i, txn in enumerate(transactions, start=1):\n",
    "        print(f\"{i}, {txn}\")\n",
    "\n",
    "    # Ask user to pick a number\n",
    "    try:\n",
    "        choice =int(input(\"Enter the number of transaction to update: \"))\n",
    "        if not (1 <= choice <= len(transactions)):\n",
    "            print(\"Invalid transaction number.\")\n",
    "            return\n",
    "\n",
    "    except ValueError:\n",
    "        print(\"Please enter a valid number.\")\n",
    "        return\n",
    "    \n",
    "    transaction = transactions[choice - 1]\n",
    "\n",
    "    # Ask which field to change\n",
    "    fields = list(transaction.keys())\n",
    "    print(\"Fields available to update.\")\n",
    "    for i, field in enumerate(fields, start=1):\n",
    "        print(f\"{i}. {field}\")\n",
    "\n",
    "    try:\n",
    "        field_choice = int(input(\"Enter the number of the field to update: \"))\n",
    "        if not (1 <= field_choice <= len(fields)):\n",
    "            print(\"Invalid field number. \")\n",
    "            return\n",
    "        \n",
    "    except ValueError:\n",
    "        print(\"Please enter a valid number. \")\n",
    "        return\n",
    "    \n",
    "    field_to_update = fields[field_choice - 1]\n",
    "    new_value = input(f\"Enter new value for {field_to_update}: \")\n",
    "\n",
    "    # Optionally convert value type if known (e.g., amount)\n",
    "    if field_to_update.lower() in ['amount', 'price', 'value']:\n",
    "        try:\n",
    "            new_value = float(new_value)\n",
    "        except ValueError:\n",
    "            print(\"Invalid numeric value. Update cancelled. \")\n",
    "            return\n",
    "        \n",
    "transaction[field_to_update] = new_value\n",
    "print(\"Transaction update successfully.\")\n"
   ]
  },
  {
   "cell_type": "code",
   "execution_count": null,
   "id": "0faaa9d6",
   "metadata": {},
   "outputs": [],
   "source": []
  }
 ],
 "metadata": {
  "kernelspec": {
   "display_name": ".venv",
   "language": "python",
   "name": "python3"
  },
  "language_info": {
   "codemirror_mode": {
    "name": "ipython",
    "version": 3
   },
   "file_extension": ".py",
   "mimetype": "text/x-python",
   "name": "python",
   "nbconvert_exporter": "python",
   "pygments_lexer": "ipython3",
   "version": "3.13.2"
  }
 },
 "nbformat": 4,
 "nbformat_minor": 5
}
